{
    "nbformat_minor": 1, 
    "cells": [
        {
            "source": "# This notebook is prepared by Vasilii Sitdikov as a solution for assignment", 
            "cell_type": "markdown", 
            "metadata": {}
        }, 
        {
            "source": "#### Week 4\n### Course: Cluster Analysis in Data Mining\n### Specialization: Data Mining\n###  University of Illinois MCS in Data Science (Coursera)", 
            "cell_type": "markdown", 
            "metadata": {}
        }, 
        {
            "source": "## Description\n##### In this assignment, you will be implementing two clustering validation measures: Normalized Mutual Information (NMI) and Jaccard similarity.", 
            "cell_type": "markdown", 
            "metadata": {
                "collapsed": true
            }
        }, 
        {
            "source": "### Input\nYou will be given one ground-truth clustering (partition) results and five clustering test cases. You need to evaluate the clustering test cases with regard to the ground-truth by NMI and Jaccard measures and submit your measures. You will be graded based on whether your measures are correct.\n\nThe ground-truth clustering (partition) results are stored in file \"partitions.txt\"; the five clustering result test cases are stored in file \"clustering_1.txt\", ..., \"clustering_5.txt\".", 
            "cell_type": "markdown", 
            "metadata": {}
        }, 
        {
            "source": "### Output\nEach clustering result (both ground-truth and test cases) is represented by a file. Each line in a file consists of two integers, separated by a space. The first integer represents the id of a data item, and the second integer represents the id of the cluster which this item belongs to.\n\nYou need to submit a file titled \"scores.txt\" consisting of 5 lines. Each line contains two float numbers separated by a space. The first number of the i-th line represents the NMI measure you calculated for the i-th test case i (i.e. \"clustering_i.txt\") with regard to the ground-truth given in \"partitions.txt\", and the second number of the i-th line represents the Jaccard measure you calculated for the i-th test case.\n\n### Important Tips\nAs an example, a valid submission may look like:\n\n0.1000000 0.2000000\n\n0.3000000 0.4000000\n\n0.5000000 0.6000000\n\n0.7000000 0.8000000\n\n0.9000000 1.0000000\n\nYou will be graded based on whether your file format is correct and onhow many measures you submitted are correct.", 
            "cell_type": "markdown", 
            "metadata": {}
        }, 
        {
            "source": "# Solution", 
            "cell_type": "markdown", 
            "metadata": {}
        }, 
        {
            "source": "## I. Loading and parsing the files", 
            "cell_type": "markdown", 
            "metadata": {}
        }, 
        {
            "source": "#### Install library for work with enviroment (we need to get the txt file)", 
            "cell_type": "markdown", 
            "metadata": {}
        }, 
        {
            "execution_count": 44, 
            "cell_type": "code", 
            "metadata": {}, 
            "outputs": [
                {
                    "output_type": "stream", 
                    "name": "stdout", 
                    "text": "Requirement already satisfied: ibm-cos-sdk in /opt/conda/envs/DSX-Python35/lib/python3.5/site-packages (2.0.1)\nRequirement already satisfied: ibm-cos-sdk-s3transfer==2.*,>=2.0.0 in /opt/conda/envs/DSX-Python35/lib/python3.5/site-packages (from ibm-cos-sdk) (2.0.1)\nRequirement already satisfied: ibm-cos-sdk-core==2.*,>=2.0.0 in /opt/conda/envs/DSX-Python35/lib/python3.5/site-packages (from ibm-cos-sdk) (2.0.1)\nRequirement already satisfied: jmespath<1.0.0,>=0.7.1 in /opt/conda/envs/DSX-Python35/lib/python3.5/site-packages (from ibm-cos-sdk-core==2.*,>=2.0.0->ibm-cos-sdk) (0.9.3)\nRequirement already satisfied: docutils>=0.10 in /opt/conda/envs/DSX-Python35/lib/python3.5/site-packages (from ibm-cos-sdk-core==2.*,>=2.0.0->ibm-cos-sdk) (0.14)\nRequirement already satisfied: python-dateutil<3.0.0,>=2.1 in /opt/conda/envs/DSX-Python35/lib/python3.5/site-packages (from ibm-cos-sdk-core==2.*,>=2.0.0->ibm-cos-sdk) (2.6.1)\nRequirement already satisfied: six>=1.5 in /opt/conda/envs/DSX-Python35/lib/python3.5/site-packages (from python-dateutil<3.0.0,>=2.1->ibm-cos-sdk-core==2.*,>=2.0.0->ibm-cos-sdk) (1.11.0)\n\u001b[31mtensorflow 1.3.0 requires tensorflow-tensorboard<0.2.0,>=0.1.0, which is not installed.\u001b[0m\n"
                }
            ], 
            "source": "!pip install ibm-cos-sdk"
        }, 
        {
            "source": "#### Getting credentials", 
            "cell_type": "markdown", 
            "metadata": {}
        }, 
        {
            "execution_count": 45, 
            "cell_type": "code", 
            "metadata": {}, 
            "outputs": [], 
            "source": "# The code was removed by Watson Studio for sharing."
        }, 
        {
            "source": "#### Import libraries and define functions for getting the text from enviroment", 
            "cell_type": "markdown", 
            "metadata": {}
        }, 
        {
            "execution_count": 46, 
            "cell_type": "code", 
            "metadata": {}, 
            "outputs": [], 
            "source": "import ibm_boto3\nfrom botocore.client import Config"
        }, 
        {
            "execution_count": 47, 
            "cell_type": "code", 
            "metadata": {}, 
            "outputs": [], 
            "source": "cos = ibm_boto3.client('s3',\n                       ibm_api_key_id=credentials_1['IBM_API_KEY_ID'],\n                       ibm_service_instance_id=credentials_1['IAM_SERVICE_ID'],\n                       ibm_auth_endpoint=credentials_1['IBM_AUTH_ENDPOINT'],\n                       config=Config(signature_version='oauth'),\n                       endpoint_url=credentials_1['ENDPOINT'])"
        }, 
        {
            "execution_count": 48, 
            "cell_type": "code", 
            "metadata": {}, 
            "outputs": [], 
            "source": "def get_file(filename):\n    '''Retrieve file from Cloud Object Storage'''\n    fileobject = cos.get_object(Bucket=credentials_1['BUCKET'], Key=filename)['Body']\n    return fileobject"
        }, 
        {
            "execution_count": 49, 
            "cell_type": "code", 
            "metadata": {}, 
            "outputs": [], 
            "source": "def load_string(fileobject):\n    '''Load the file contents into a Python string'''\n    text = fileobject.read()\n    return text"
        }, 
        {
            "source": "#### Parsing the text file to the 2D list \"data\". 5 rows for \"clustering_\" files and the last one for \"partitions.txt\" ", 
            "cell_type": "markdown", 
            "metadata": {}
        }, 
        {
            "execution_count": 50, 
            "cell_type": "code", 
            "metadata": {}, 
            "outputs": [], 
            "source": "data = []\nfor i in range(1, 7):    \n    \n    if i == 6:\n        file_name = 'partitions.txt'\n    else:\n        file_name = 'clustering_'+str(i)+'.txt'\n    \n    # Getting the file as a stream object and decoding to the string\n    file = get_file(file_name)\n    text = load_string(file).decode()\n    \n    # Parsing the text file to the 2D list \"data\", using only clusters numbers (the second number in each line)\n    data_new=[]\n    for num, line in enumerate(text.splitlines()):\n        data_new.append(str(line).split(' ')[1])\n    data.append(data_new)"
        }, 
        {
            "source": "#### Loading data to Numpy Array", 
            "cell_type": "markdown", 
            "metadata": {}
        }, 
        {
            "execution_count": 51, 
            "cell_type": "code", 
            "metadata": {}, 
            "outputs": [], 
            "source": "import numpy as np"
        }, 
        {
            "execution_count": 86, 
            "cell_type": "code", 
            "metadata": {}, 
            "outputs": [
                {
                    "output_type": "stream", 
                    "name": "stdout", 
                    "text": "(6, 300)\n"
                }, 
                {
                    "execution_count": 86, 
                    "metadata": {}, 
                    "data": {
                        "text/plain": "array([[2, 0, 2, ..., 2, 2, 2],\n       [2, 0, 1, ..., 2, 2, 2],\n       [2, 0, 1, ..., 0, 1, 2],\n       [2, 0, 2, ..., 2, 2, 2],\n       [0, 0, 0, ..., 0, 0, 0],\n       [2, 0, 2, ..., 2, 2, 2]])"
                    }, 
                    "output_type": "execute_result"
                }
            ], 
            "source": "array = np.array(data).astype(int) #It's crucial to transform data type to int from str\nprint(array.shape)\narray"
        }, 
        {
            "source": " ## II. Clustering", 
            "cell_type": "markdown", 
            "metadata": {}
        }, 
        {
            "source": "#### Import libraries", 
            "cell_type": "markdown", 
            "metadata": {}
        }, 
        {
            "execution_count": 61, 
            "cell_type": "code", 
            "metadata": {}, 
            "outputs": [], 
            "source": "from sklearn.metrics import normalized_mutual_info_score as NMI\nfrom sklearn.metrics import jaccard_similarity_score as Jaccard"
        }, 
        {
            "source": "#### My Jaccard\n!!!The result of sklearn library is not the same as the result of my function, wich uses the definition from the lecture", 
            "cell_type": "markdown", 
            "metadata": {}
        }, 
        {
            "execution_count": 98, 
            "cell_type": "code", 
            "metadata": {}, 
            "outputs": [], 
            "source": "def my_jaccard(array_true, array_ev):\n    FP=0; FN=0; TP=0\n    for i in range(len(array_true)):\n        for j in range(len(array_true)):\n            if i!=j:\n                if array_true[i] == array_true[j] and array_ev[i] == array_ev[j]:\n                    TP += 1\n                elif array_true[i] != array_true[j] and array_ev[i] == array_ev[j]:\n                    FP +=1\n                elif array_true[i] == array_true[j] and array_ev[i] != array_ev[j]:\n                    FN +=1\n    return TP/(TP+FN+FP)"
        }, 
        {
            "source": "#### Applying validation methods", 
            "cell_type": "markdown", 
            "metadata": {}
        }, 
        {
            "execution_count": 99, 
            "cell_type": "code", 
            "metadata": {}, 
            "outputs": [
                {
                    "execution_count": 99, 
                    "metadata": {}, 
                    "data": {
                        "text/plain": "[[0.88962476658005873,\n  0.64563681134772166,\n  0.39154374638169198,\n  0.76778916069026093,\n  0.76117025972228858],\n [0.9116889804325438,\n  0.6794842795747569,\n  0.46493045279668543,\n  0.8005979461848434,\n  0.5975855130784709]]"
                    }, 
                    "output_type": "execute_result"
                }
            ], 
            "source": "output = [[0, 0, 0, 0, 0], [0, 0, 0, 0, 0]]\nfor k in range(0, 5):\n    output[0][k] = NMI(array[5], array[k])\n    output[1][k] = my_jaccard(array[5], array[k])\n#    output[2][k] = Jaccard(array[5], array[k]) !!!The results of sklearn library is not the same to results of my function, wich uses the definition from the lecture\noutput    "
        }, 
        {
            "source": "## III. Write output to file", 
            "cell_type": "markdown", 
            "metadata": {}
        }, 
        {
            "source": "#### Create the loop to write down output to the txt file in required format", 
            "cell_type": "markdown", 
            "metadata": {}
        }, 
        {
            "execution_count": 100, 
            "cell_type": "code", 
            "metadata": {}, 
            "outputs": [], 
            "source": "with open('scores.txt', 'w') as file:\n    # Loop df: extract number of row and cluster labels \n    for i in range (0, 5):\n        string = str(output[0][i]) +' '+ str(output[1][i])\n        file.write(string + '\\r\\n')"
        }, 
        {
            "execution_count": 101, 
            "cell_type": "code", 
            "metadata": {}, 
            "outputs": [
                {
                    "output_type": "stream", 
                    "name": "stdout", 
                    "text": "0.88962476658 0.9116889804325438\n0.645636811348 0.6794842795747569\n0.391543746382 0.46493045279668543\n0.76778916069 0.8005979461848434\n0.761170259722 0.5975855130784709\n\n"
                }
            ], 
            "source": "with open('scores.txt', 'r') as file:\n    print(file.read())"
        }, 
        {
            "source": "#### Upload file to the Cloud Object Storage", 
            "cell_type": "markdown", 
            "metadata": {}
        }, 
        {
            "execution_count": 102, 
            "cell_type": "code", 
            "metadata": {}, 
            "outputs": [
                {
                    "execution_count": 102, 
                    "metadata": {}, 
                    "data": {
                        "text/plain": "s3.Object(bucket_name='assignmentfrequentitemsetminingus-donotdelete-pr-bsxgb7luqmjbzs', key='scores.txt')"
                    }, 
                    "output_type": "execute_result"
                }
            ], 
            "source": "resource = ibm_boto3.resource('s3',\n                   ibm_api_key_id=credentials_1['IBM_API_KEY_ID'],\n                   ibm_service_instance_id=credentials_1['IAM_SERVICE_ID'],\n                   ibm_auth_endpoint=credentials_1['IBM_AUTH_ENDPOINT'],\n                   config=Config(signature_version='oauth'),\n                   endpoint_url=credentials_1['ENDPOINT'])\nresource.Bucket(name=credentials_1['BUCKET']).put_object(Key='scores.txt', Body=open('scores.txt', 'rb'))"
        }, 
        {
            "source": "## IV. Optional. Vizualisation", 
            "cell_type": "markdown", 
            "metadata": {}
        }, 
        {
            "execution_count": 103, 
            "cell_type": "code", 
            "metadata": {}, 
            "outputs": [], 
            "source": "from matplotlib import pyplot as plt\n%matplotlib inline "
        }, 
        {
            "execution_count": 104, 
            "cell_type": "code", 
            "metadata": {}, 
            "outputs": [
                {
                    "output_type": "display_data", 
                    "data": {
                        "image/png": "[encoded data removed]", 
                        "text/plain": "<matplotlib.figure.Figure at 0x7f2fd84b5f60>"
                    }, 
                    "metadata": {}
                }
            ], 
            "source": "plt.plot(output[0])\nplt.plot(output[1])\nplt.xticks(range(0, 5))\nplt.show()"
        }, 
        {
            "execution_count": null, 
            "cell_type": "code", 
            "metadata": {}, 
            "outputs": [], 
            "source": ""
        }
    ], 
    "metadata": {
        "kernelspec": {
            "display_name": "Python 3.5", 
            "name": "python3", 
            "language": "python"
        }, 
        "language_info": {
            "mimetype": "text/x-python", 
            "nbconvert_exporter": "python", 
            "version": "3.5.5", 
            "name": "python", 
            "file_extension": ".py", 
            "pygments_lexer": "ipython3", 
            "codemirror_mode": {
                "version": 3, 
                "name": "ipython"
            }
        }
    }, 
    "nbformat": 4
}