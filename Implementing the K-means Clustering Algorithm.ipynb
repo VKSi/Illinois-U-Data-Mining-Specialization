{
    "nbformat_minor": 1, 
    "cells": [
        {
            "source": "# This notebook is prepared by Vasilii Sitdikov as a solution for assignment", 
            "cell_type": "markdown", 
            "metadata": {}
        }, 
        {
            "source": "### Week 2\n### Course: Cluster Analysis in Data Mining\n### Specialization: Data Mining\n###  University of Illinois MCS in Data Science (Coursera)", 
            "cell_type": "markdown", 
            "metadata": {}
        }, 
        {
            "source": "## Description\n##### In this programming assignment, you are required to implement the k-means algorithm and apply it to a real-life data set.", 
            "cell_type": "markdown", 
            "metadata": {
                "collapsed": true
            }
        }, 
        {
            "source": "### Input\nThe provided input file (\"places.txt\") consists of the locations of 300 places in the US. Each location is a two-dimensional point that represents the longitude and latitude of the place. For example, \"-112.1,33.5\" means the longitude of the place is -112.1, and the latitude is 33.5.", 
            "cell_type": "markdown", 
            "metadata": {}
        }, 
        {
            "source": "### Output\nYou are required to implement the k-means algorithm and use it to cluster the 300 locations into three clusters, such that the locations in the same cluster are geographically close to each other.\n\nAfter reading in the 300 locations in \"places.txt\" and applying the k-means algorithm (with k = 3), you are required to generate an output file named \"clusters.txt\". The output file should contain exactly 300 lines, where each line represents the cluster label of each location. Every line should be in the format: location_id cluster_label.\n\nAn example snippet of the output \"clusters.txt\" file is provided below:\n\n0 1\n\n1 0\n\n2 1\n\n3 2\n\n4 0\n\nIn the above, the five lines denote the cluster ids of the first five locations in the input file, which means:\n\nThe first location belongs to cluster \"1\"\n\nThe second location belongs to cluster \"0\"\n\nThe third location belongs to cluster \"1\"\n\nThe fourth location belongs to cluster \"2\"\n\nThe fifth location belongs to cluster \"0\"\n\n### Important Tips\nWhen implementing the K-means algorithm, you could use any programming language you like. We only need the generated cluster label file.\n\nMake sure that you format each line correctly in the output file. For instance, use space instead of comma to separate the data point id and the cluster label.\n\nIn the input file \"places.txt\", the id of the location starts from 0. That is, the first line in \"places.txt\" has id 0, the second line has id 1, ..., and the last place has id 299.\n\nWhen generating the output file, please note that the order of the cluster labels does not matter. For example, if there are three clusters, you can use either [0, 1, 2] or [2, 1, 0] as labels for them --- it is correct as long as you use three distinct integer ids. Thus, the following two cases will be considered equivalent by the grader:\n\nCase 1:\n\n0 0\n\n1 1\n\n2 2\n\nCase 2:\n\n0 2\n\n1 1\n\n2 0", 
            "cell_type": "markdown", 
            "metadata": {}
        }, 
        {
            "source": "# Solution", 
            "cell_type": "markdown", 
            "metadata": {}
        }, 
        {
            "source": "## I. Loading and parsing the file", 
            "cell_type": "markdown", 
            "metadata": {}
        }, 
        {
            "source": "#### Install library for work with enviroment (we need to get the txt file)", 
            "cell_type": "markdown", 
            "metadata": {}
        }, 
        {
            "execution_count": 45, 
            "cell_type": "code", 
            "metadata": {}, 
            "outputs": [
                {
                    "output_type": "stream", 
                    "name": "stdout", 
                    "text": "Requirement already satisfied: ibm-cos-sdk in /opt/conda/envs/DSX-Python35/lib/python3.5/site-packages (2.0.1)\nRequirement already satisfied: ibm-cos-sdk-s3transfer==2.*,>=2.0.0 in /opt/conda/envs/DSX-Python35/lib/python3.5/site-packages (from ibm-cos-sdk) (2.0.1)\nRequirement already satisfied: ibm-cos-sdk-core==2.*,>=2.0.0 in /opt/conda/envs/DSX-Python35/lib/python3.5/site-packages (from ibm-cos-sdk) (2.0.1)\nRequirement already satisfied: python-dateutil<3.0.0,>=2.1 in /opt/conda/envs/DSX-Python35/lib/python3.5/site-packages (from ibm-cos-sdk-core==2.*,>=2.0.0->ibm-cos-sdk) (2.6.1)\nRequirement already satisfied: docutils>=0.10 in /opt/conda/envs/DSX-Python35/lib/python3.5/site-packages (from ibm-cos-sdk-core==2.*,>=2.0.0->ibm-cos-sdk) (0.14)\nRequirement already satisfied: jmespath<1.0.0,>=0.7.1 in /opt/conda/envs/DSX-Python35/lib/python3.5/site-packages (from ibm-cos-sdk-core==2.*,>=2.0.0->ibm-cos-sdk) (0.9.3)\nRequirement already satisfied: six>=1.5 in /opt/conda/envs/DSX-Python35/lib/python3.5/site-packages (from python-dateutil<3.0.0,>=2.1->ibm-cos-sdk-core==2.*,>=2.0.0->ibm-cos-sdk) (1.11.0)\n\u001b[31mtensorflow 1.3.0 requires tensorflow-tensorboard<0.2.0,>=0.1.0, which is not installed.\u001b[0m\n"
                }
            ], 
            "source": "!pip install ibm-cos-sdk"
        }, 
        {
            "source": "#### Getting credentials", 
            "cell_type": "markdown", 
            "metadata": {}
        }, 
        {
            "execution_count": 46, 
            "cell_type": "code", 
            "metadata": {}, 
            "outputs": [], 
            "source": "# The code was removed by Watson Studio for sharing."
        }, 
        {
            "source": "#### Import libraries and define functions for getting the text from enviroment", 
            "cell_type": "markdown", 
            "metadata": {}
        }, 
        {
            "execution_count": 47, 
            "cell_type": "code", 
            "metadata": {}, 
            "outputs": [], 
            "source": "import ibm_boto3\nfrom botocore.client import Config"
        }, 
        {
            "execution_count": 48, 
            "cell_type": "code", 
            "metadata": {}, 
            "outputs": [], 
            "source": "cos = ibm_boto3.client('s3',\n                       ibm_api_key_id=credentials_1['IBM_API_KEY_ID'],\n                       ibm_service_instance_id=credentials_1['IAM_SERVICE_ID'],\n                       ibm_auth_endpoint=credentials_1['IBM_AUTH_ENDPOINT'],\n                       config=Config(signature_version='oauth'),\n                       endpoint_url=credentials_1['ENDPOINT'])"
        }, 
        {
            "execution_count": 49, 
            "cell_type": "code", 
            "metadata": {}, 
            "outputs": [], 
            "source": "def get_file(filename):\n    '''Retrieve file from Cloud Object Storage'''\n    fileobject = cos.get_object(Bucket=credentials_1['BUCKET'], Key=filename)['Body']\n    return fileobject"
        }, 
        {
            "execution_count": 50, 
            "cell_type": "code", 
            "metadata": {}, 
            "outputs": [], 
            "source": "def load_string(fileobject):\n    '''Load the file contents into a Python string'''\n    text = fileobject.read()\n    return text"
        }, 
        {
            "source": "#### Getting the file as a stream object and decoding to the string", 
            "cell_type": "markdown", 
            "metadata": {}
        }, 
        {
            "execution_count": 51, 
            "cell_type": "code", 
            "metadata": {
                "scrolled": true
            }, 
            "outputs": [
                {
                    "output_type": "stream", 
                    "name": "stdout", 
                    "text": "-112.0707922,33.4516246\r\n-112.0655423,33.4492979\r\n-112.0739312,33.4564905\r\n-112.0748658,33.4701155\r\n-80.5256905,43.4770992\r\n-80.5266413,43.4858748\r\n-80.846495,35.225825\r\n-112.0744277,33.4484911\r\n-112.0731006,33.4299067\r\n-80.8396357,35.2270542\r\n-112.0738147,33.4487514\r\n-80.84395,35.225394\r\n-80.5361832,43.4722801\r\n-112.0742828,33.4787931\r\n-80.8404318988,35.2274789984\r\n-80.8419989013,35.2283137726\r\n-80.846935,35.22586\r\n-112.074115,33.475583\r\n-80.968306,35.283424\r\n-80.5408376,43.484427\r\n-80.527637205,43.5026116046\r\n-80.5231354,43.4679471\r\n-80.4937878,43.4894705\r\n-80.8427865,35.2207294\r\n-112.0686202,33.4521542\r\n-80.5256905,43.4770992\r\n-112.0696144,33.4523351\r\n-80.5211216,43.4793516\r\n-112.067518,33.4660304\r\n-112.074326,33.46084\r\n-80.5293258,43.49749\r\n-80.843155,35.218214\r\n-112.0686202,33.4521542\r\n-112.0686777,33.4579128\r\n-112.0657878,33.4768722\r\n-80.8440182,35.2275943\r\n-80.5203846,43.4787316\r\n-112.0686202,33.4521542\r\n-80.5256905,43.4770992\r\n-80.8530782034,35.2260468097\r\n-80.840783,35.23361\r\n-80.8502645514,35.2336634617\r\n-80.849647,35.223622\r\n-80.8343082,35.2262527\r\n-80.8411478,35.227822\r\n-80.5377496406,43.4723280992\r\n-112.0742162,33.4796505\r\n-80.8500343,35.2341598\r\n-112.0743321,33.4580837\r\n-112.0721778,33.4663026\r\n-80.5231407,43.4768135\r\n-80.844616,35.223805\r\n-112.065825,33.442472\r\n-80.8670549,35.089035\r\n-80.5238819,43.4648096\r\n-80.84468,35.226433\r\n-112.0655975,33.4653345\r\n-80.7791381,35.0952753\r\n-80.5392510355,43.4721726021\r\n-80.843388,35.2279912\r\n-112.072117722,33.4448019849\r\n-80.5243892,43.4752375\r\n-80.8414916,35.2278131\r\n-112.0657286,33.4657117\r\n-80.5230849,43.4677521\r\n-80.846592,35.228193\r\n-80.8456832,35.2223511\r\n-112.0691069,33.4458023\r\n-80.5227058,43.4670204\r\n-80.843388,35.2279912\r\n-80.5379276723,43.4722519425\r\n-112.0717019,33.4483992\r\n-80.8547192,35.2283983\r\n-80.537082,43.471891\r\n-112.0722009,33.4724737\r\n-112.0750849,33.4685474\r\n-112.073929,33.429424\r\n-80.8464246,35.2246161\r\n-80.5353761,43.4723904\r\n-112.0657967,33.4365057\r\n-112.0742794,33.4722371\r\n-80.8419492,35.2262406\r\n-112.0613638,33.4660928\r\n-80.5232652,43.4692451\r\n-112.0740375,33.4501458\r\n-112.0255034,33.5303271\r\n-80.5223045,43.4646939\r\n-112.071886,33.449858\r\n-80.5219541118,43.4628223628\r\n-112.0744277,33.4484911\r\n-80.536591,43.472091\r\n-80.5377811566,43.4727816313\r\n-112.0699472,33.4506843\r\n-80.5244182,43.486349\r\n-80.5246119,43.4646469\r\n-80.5409781,43.5071296\r\n-80.8473278,35.2239303\r\n-80.8394745,35.2278411\r\n-112.0996404,33.5176328\r\n-112.0705878,33.4500609\r\n-112.0706266,33.4450359\r\n-80.519187,43.4772196\r\n-112.0678078,33.4585108\r\n-112.0740511,33.4499524\r\n-80.847333,35.234098\r\n-80.847,35.217205\r\n-112.070122,33.443909\r\n-80.5398649,43.4691285\r\n-112.0772,33.449188\r\n-112.070655,33.4555253\r\n-80.5273068,43.463366\r\n-80.8426239,35.2284099\r\n-112.0740962,33.4794824\r\n-80.5371146277,43.4725006073\r\n-112.072706876,33.4483756752\r\n-112.0686337,33.4516878\r\n-80.5182138,43.483281\r\n-112.0656044,33.4372015\r\n-80.5194703,43.476998\r\n-80.528095,43.474541\r\n-80.8421891375,35.2247714304\r\n-80.8414916,35.2278131\r\n-112.0736968,33.476644\r\n-80.5137443,43.471126\r\n-80.8480944,35.056435\r\n-80.5233044,43.4679985\r\n-80.84581,35.214505\r\n-80.5381164327,43.4721891678\r\n-80.8393449,35.2216474\r\n-80.5235285,43.4636098\r\n-80.838659,35.228234\r\n-80.5545309,43.5093982\r\n-80.851868,35.233064\r\n-112.0737923,33.4568607\r\n-112.0741097,33.4505535\r\n-80.5183755,43.4782831\r\n-80.52628,43.484483\r\n-112.0686202,33.4521542\r\n-112.0737003,33.4757646\r\n-80.5178879,43.4758781\r\n-80.84395,35.225394\r\n-80.8449462,35.225705\r\n-112.0709775,33.4470733\r\n-80.5221597,43.4642893\r\n-80.8464728,35.2240131\r\n-80.84104,35.2244979\r\n-80.8411478,35.227822\r\n-112.073569,33.4640982988\r\n-80.841786,35.2340477\r\n-80.8174063386,35.0578530619\r\n-80.5193889,43.4596341\r\n-80.8439988,35.2329575\r\n-80.809002,35.220697\r\n-80.523446,43.4667473\r\n-80.5365122,43.4720116\r\n-80.5238087,43.466708\r\n-80.5250886,43.477593\r\n-80.5228895,43.467046\r\n-80.857545,35.117183\r\n-80.783798,35.096526\r\n-80.527828,43.489061\r\n-112.0696051,33.464388\r\n-80.5351869,43.5030738\r\n-112.0709775,33.4470733\r\n-80.843388,35.2279912\r\n-80.53118,43.502488\r\n-80.5213927,43.4659522\r\n-80.521901,43.4647024\r\n-80.5249727,43.4845752\r\n-80.5243842,43.5048639\r\n-80.5373674259,43.4730259144\r\n-112.070585498,33.4507074659\r\n-112.074248,33.47626\r\n-80.922732,35.237471\r\n-80.849538,35.227078\r\n-112.074802052,33.448424817\r\n-80.5364492,43.4720225\r\n-80.8428142,35.2265794\r\n-80.845804,35.2263469\r\n-80.5223193,43.4648949\r\n-112.06909,33.46544\r\n-80.555717,43.452243\r\n-80.8319153,35.1879068\r\n-80.8530782034,35.2260468097\r\n-80.5391085148,43.4719665363\r\n-80.8401304,35.2273178\r\n-80.843388,35.2279912\r\n-80.5243892,43.4752375\r\n-112.073577,33.44455\r\n-80.5260902,43.483456\r\n-80.8461559,35.22533\r\n-80.844191,35.226995\r\n-112.0736854,33.4793911\r\n-112.071322,33.449909\r\n-112.073417,33.477939\r\n-80.845006058,35.2286502258\r\n-112.06649,33.4667869\r\n-112.0741767,33.4558849\r\n-80.8411478,35.227822\r\n-112.081565,33.465499\r\n-80.5252447306,43.4763190134\r\n-112.0739284,33.4739691\r\n-80.851336,35.238088\r\n-112.074153,33.46425\r\n-80.538629,43.472371\r\n-80.9405309,35.239674\r\n-112.072914,33.477594\r\n-80.531231,43.5028859\r\n-80.84119,35.228915\r\n-80.728384,35.2771265\r\n-80.537061,43.472566\r\n-80.839671,35.228985\r\n-80.8473,35.230158\r\n-112.0686202,33.4521542\r\n-80.5221353,43.4657569\r\n-80.5211055,43.4793595\r\n-112.0736809,33.4794762\r\n-80.5388363109,43.4717869083\r\n-112.0741467,33.4633319\r\n-80.5210309,43.462251\r\n-112.072092,33.47066\r\n-80.5217836,43.4629195\r\n-80.5222866,43.4610385\r\n-80.536591,43.471998\r\n-80.8394131,35.2302318\r\n-80.844683,35.223866\r\n-80.8416248,35.2286559\r\n-112.0741767,33.4558849\r\n-80.828252,35.1467079\r\n-112.073106,33.473847\r\n-112.0686202,33.4521542\r\n-80.842303,35.226746\r\n-80.84547,35.224456\r\n-80.536612,43.472091\r\n-80.5318027,43.4991122\r\n-80.843784,35.2275289\r\n-112.0712574,33.4484654\r\n-80.8461559,35.22533\r\n-112.071075886,33.4468850573\r\n-80.8412724,35.2288472\r\n-112.0664327,33.476323\r\n-112.0744277,33.4484911\r\n-80.8381685,35.2310911\r\n-80.8464246,35.2246161\r\n-80.8424708,35.2292799\r\n-80.8393335,35.2250606\r\n-80.840985,35.228281\r\n-80.8396379,35.231684\r\n-80.834638,35.228506\r\n-112.0740373,33.4483771\r\n-80.8464728,35.2240131\r\n-80.8388937,35.2274621\r\n-80.5238819,43.4648096\r\n-80.53827703,43.4725940388\r\n-80.5365704,43.471988\r\n-80.5250037834,43.4774177316\r\n-80.8489878,35.2335751\r\n-112.0674357,33.4503971\r\n-80.8407079,35.2172053\r\n-112.0744197,33.4771144\r\n-80.5353761,43.4723904\r\n-112.0865171,33.4547647\r\n-80.8406527,35.2274197\r\n-80.5274971,43.4980824\r\n-80.5408262,43.4844189\r\n-112.0732082,33.5087398\r\n-80.5184485,43.4657108\r\n-112.07194,33.4493093\r\n-80.5228895,43.467046\r\n-112.074558593,33.4492572677\r\n-80.529250574,43.5037624514\r\n-80.8361303,35.2327235\r\n-112.0743321,33.4580837\r\n-80.8452366,35.2254586\r\n-80.5253004,43.4763761\r\n-80.5224956,43.4697612\r\n-112.073481,33.439268\r\n-112.066333,33.450875\r\n-80.5150582,43.4703532\r\n-80.5229421,43.4667083\r\n-80.84104,35.2244979\r\n-80.84972,35.21873\r\n-80.8414487,35.227987\r\n-80.851151,35.220527\r\n-80.5223735,43.4639601\r\n-80.5247756,43.4770643\r\n-80.8473977,35.2215512\r\n-80.5551852,43.5064923\r\n-80.5361832,43.4722801\r\n-112.0736806,33.4794817\r\n-80.5393988,43.5011946\r\n-112.0789482,33.4800317\r\n-80.864092,35.093322\r\n-112.0705438,33.4657432\r\n-80.5178155,43.4755885\r\n-112.0732961,33.479418\r\n-112.0669197,33.4670273\r\n-112.0733849,33.4691037\r\n-80.5340476,43.4728924\r\n-112.0693184,33.4657177\n"
                }
            ], 
            "source": "file = get_file('places.txt')\ntext = load_string(file).decode()\nprint(text)"
        }, 
        {
            "source": "#### Parsing the text file to the 2D list \"data\" ", 
            "cell_type": "markdown", 
            "metadata": {}
        }, 
        {
            "execution_count": 52, 
            "cell_type": "code", 
            "metadata": {}, 
            "outputs": [
                {
                    "execution_count": 52, 
                    "metadata": {}, 
                    "data": {
                        "text/plain": "[['-112.0707922', '33.4516246'],\n ['-112.0655423', '33.4492979'],\n ['-112.0739312', '33.4564905'],\n ['-112.0748658', '33.4701155'],\n ['-80.5256905', '43.4770992']]"
                    }, 
                    "output_type": "execute_result"
                }
            ], 
            "source": "data=[]\nfor num, line in enumerate(text.splitlines()):\n    data.append(str(line).split(','))\ndata[0:5][:]"
        }, 
        {
            "source": "#### Loading data to Pandas DataFrame format", 
            "cell_type": "markdown", 
            "metadata": {}
        }, 
        {
            "execution_count": 53, 
            "cell_type": "code", 
            "metadata": {}, 
            "outputs": [], 
            "source": "import pandas as pd\nimport numpy as np"
        }, 
        {
            "execution_count": 54, 
            "cell_type": "code", 
            "metadata": {}, 
            "outputs": [
                {
                    "output_type": "stream", 
                    "name": "stdout", 
                    "text": "<class 'numpy.float64'>\n"
                }, 
                {
                    "execution_count": 54, 
                    "metadata": {}, 
                    "data": {
                        "text/html": "<div>\n<style scoped>\n    .dataframe tbody tr th:only-of-type {\n        vertical-align: middle;\n    }\n\n    .dataframe tbody tr th {\n        vertical-align: top;\n    }\n\n    .dataframe thead th {\n        text-align: right;\n    }\n</style>\n<table border=\"1\" class=\"dataframe\">\n  <thead>\n    <tr style=\"text-align: right;\">\n      <th></th>\n      <th>longitude</th>\n      <th>latitude</th>\n    </tr>\n  </thead>\n  <tbody>\n    <tr>\n      <th>0</th>\n      <td>-112.070792</td>\n      <td>33.451625</td>\n    </tr>\n    <tr>\n      <th>1</th>\n      <td>-112.065542</td>\n      <td>33.449298</td>\n    </tr>\n    <tr>\n      <th>2</th>\n      <td>-112.073931</td>\n      <td>33.456491</td>\n    </tr>\n    <tr>\n      <th>3</th>\n      <td>-112.074866</td>\n      <td>33.470115</td>\n    </tr>\n    <tr>\n      <th>4</th>\n      <td>-80.525690</td>\n      <td>43.477099</td>\n    </tr>\n    <tr>\n      <th>5</th>\n      <td>-80.526641</td>\n      <td>43.485875</td>\n    </tr>\n    <tr>\n      <th>6</th>\n      <td>-80.846495</td>\n      <td>35.225825</td>\n    </tr>\n    <tr>\n      <th>7</th>\n      <td>-112.074428</td>\n      <td>33.448491</td>\n    </tr>\n    <tr>\n      <th>8</th>\n      <td>-112.073101</td>\n      <td>33.429907</td>\n    </tr>\n    <tr>\n      <th>9</th>\n      <td>-80.839636</td>\n      <td>35.227054</td>\n    </tr>\n  </tbody>\n</table>\n</div>", 
                        "text/plain": "    longitude   latitude\n0 -112.070792  33.451625\n1 -112.065542  33.449298\n2 -112.073931  33.456491\n3 -112.074866  33.470115\n4  -80.525690  43.477099\n5  -80.526641  43.485875\n6  -80.846495  35.225825\n7 -112.074428  33.448491\n8 -112.073101  33.429907\n9  -80.839636  35.227054"
                    }, 
                    "output_type": "execute_result"
                }
            ], 
            "source": "df = pd.DataFrame(data, columns = ('longitude', 'latitude')).astype(float) #It's crucial to transform data type to float from str\nprint(type(df.iloc[0, 0]))\ndf.head(10)"
        }, 
        {
            "source": " ## II. Clustering", 
            "cell_type": "markdown", 
            "metadata": {}
        }, 
        {
            "source": "#### Import libraries", 
            "cell_type": "markdown", 
            "metadata": {}
        }, 
        {
            "execution_count": 55, 
            "cell_type": "code", 
            "metadata": {}, 
            "outputs": [], 
            "source": "from scipy.cluster.vq import kmeans, vq"
        }, 
        {
            "source": "#### Clustering and geting lables", 
            "cell_type": "markdown", 
            "metadata": {}
        }, 
        {
            "execution_count": 56, 
            "cell_type": "code", 
            "metadata": {}, 
            "outputs": [
                {
                    "execution_count": 56, 
                    "metadata": {}, 
                    "data": {
                        "text/html": "<div>\n<style scoped>\n    .dataframe tbody tr th:only-of-type {\n        vertical-align: middle;\n    }\n\n    .dataframe tbody tr th {\n        vertical-align: top;\n    }\n\n    .dataframe thead th {\n        text-align: right;\n    }\n</style>\n<table border=\"1\" class=\"dataframe\">\n  <thead>\n    <tr style=\"text-align: right;\">\n      <th></th>\n      <th>longitude</th>\n      <th>latitude</th>\n      <th>cluster_labels</th>\n    </tr>\n  </thead>\n  <tbody>\n    <tr>\n      <th>0</th>\n      <td>-112.070792</td>\n      <td>33.451625</td>\n      <td>0</td>\n    </tr>\n    <tr>\n      <th>1</th>\n      <td>-112.065542</td>\n      <td>33.449298</td>\n      <td>0</td>\n    </tr>\n    <tr>\n      <th>2</th>\n      <td>-112.073931</td>\n      <td>33.456491</td>\n      <td>0</td>\n    </tr>\n    <tr>\n      <th>3</th>\n      <td>-112.074866</td>\n      <td>33.470115</td>\n      <td>0</td>\n    </tr>\n    <tr>\n      <th>4</th>\n      <td>-80.525690</td>\n      <td>43.477099</td>\n      <td>1</td>\n    </tr>\n    <tr>\n      <th>5</th>\n      <td>-80.526641</td>\n      <td>43.485875</td>\n      <td>1</td>\n    </tr>\n    <tr>\n      <th>6</th>\n      <td>-80.846495</td>\n      <td>35.225825</td>\n      <td>2</td>\n    </tr>\n    <tr>\n      <th>7</th>\n      <td>-112.074428</td>\n      <td>33.448491</td>\n      <td>0</td>\n    </tr>\n    <tr>\n      <th>8</th>\n      <td>-112.073101</td>\n      <td>33.429907</td>\n      <td>0</td>\n    </tr>\n    <tr>\n      <th>9</th>\n      <td>-80.839636</td>\n      <td>35.227054</td>\n      <td>2</td>\n    </tr>\n  </tbody>\n</table>\n</div>", 
                        "text/plain": "    longitude   latitude  cluster_labels\n0 -112.070792  33.451625               0\n1 -112.065542  33.449298               0\n2 -112.073931  33.456491               0\n3 -112.074866  33.470115               0\n4  -80.525690  43.477099               1\n5  -80.526641  43.485875               1\n6  -80.846495  35.225825               2\n7 -112.074428  33.448491               0\n8 -112.073101  33.429907               0\n9  -80.839636  35.227054               2"
                    }, 
                    "output_type": "execute_result"
                }
            ], 
            "source": "cluster_centers, distortion = kmeans(df[['longitude', 'latitude']], 3)\ndf['cluster_labels'], distortion_list = vq(df[['longitude', 'latitude']], cluster_centers)\ndf.head(10)"
        }, 
        {
            "source": "## III. Write output to file", 
            "cell_type": "markdown", 
            "metadata": {}
        }, 
        {
            "source": "#### Create the loop to write down output to the txt file in required format", 
            "cell_type": "markdown", 
            "metadata": {}
        }, 
        {
            "execution_count": 57, 
            "cell_type": "code", 
            "metadata": {}, 
            "outputs": [], 
            "source": "with open('clusters.txt', 'w') as file:\n    # Loop df: extract number of row and cluster labels \n    for i, row in enumerate(df['cluster_labels']):\n        string = str(i) +' '+ str(row)\n        file.write(string + '\\r\\n')\n    "
        }, 
        {
            "execution_count": 58, 
            "cell_type": "code", 
            "metadata": {}, 
            "outputs": [
                {
                    "output_type": "stream", 
                    "name": "stdout", 
                    "text": "0 0\n1 0\n2 0\n3 0\n4 1\n5 1\n6 2\n7 0\n8 0\n9 2\n10 0\n11 2\n12 1\n13 0\n14 2\n15 2\n16 2\n17 0\n18 2\n19 1\n20 1\n21 1\n22 1\n23 2\n24 0\n25 1\n26 0\n27 1\n28 0\n29 0\n30 1\n31 2\n32 0\n33 0\n34 0\n35 2\n36 1\n37 0\n38 1\n39 2\n40 2\n41 2\n42 2\n43 2\n44 2\n45 1\n46 0\n47 2\n48 0\n49 0\n50 1\n51 2\n52 0\n53 2\n54 1\n55 2\n56 0\n57 2\n58 1\n59 2\n60 0\n61 1\n62 2\n63 0\n64 1\n65 2\n66 2\n67 0\n68 1\n69 2\n70 1\n71 0\n72 2\n73 1\n74 0\n75 0\n76 0\n77 2\n78 1\n79 0\n80 0\n81 2\n82 0\n83 1\n84 0\n85 0\n86 1\n87 0\n88 1\n89 0\n90 1\n91 1\n92 0\n93 1\n94 1\n95 1\n96 2\n97 2\n98 0\n99 0\n100 0\n101 1\n102 0\n103 0\n104 2\n105 2\n106 0\n107 1\n108 0\n109 0\n110 1\n111 2\n112 0\n113 1\n114 0\n115 0\n116 1\n117 0\n118 1\n119 1\n120 2\n121 2\n122 0\n123 1\n124 2\n125 1\n126 2\n127 1\n128 2\n129 1\n130 2\n131 1\n132 2\n133 0\n134 0\n135 1\n136 1\n137 0\n138 0\n139 1\n140 2\n141 2\n142 0\n143 1\n144 2\n145 2\n146 2\n147 0\n148 2\n149 2\n150 1\n151 2\n152 2\n153 1\n154 1\n155 1\n156 1\n157 1\n158 2\n159 2\n160 1\n161 0\n162 1\n163 0\n164 2\n165 1\n166 1\n167 1\n168 1\n169 1\n170 1\n171 0\n172 0\n173 2\n174 2\n175 0\n176 1\n177 2\n178 2\n179 1\n180 0\n181 1\n182 2\n183 2\n184 1\n185 2\n186 2\n187 1\n188 0\n189 1\n190 2\n191 2\n192 0\n193 0\n194 0\n195 2\n196 0\n197 0\n198 2\n199 0\n200 1\n201 0\n202 2\n203 0\n204 1\n205 2\n206 0\n207 1\n208 2\n209 2\n210 1\n211 2\n212 2\n213 0\n214 1\n215 1\n216 0\n217 1\n218 0\n219 1\n220 0\n221 1\n222 1\n223 1\n224 2\n225 2\n226 2\n227 0\n228 2\n229 0\n230 0\n231 2\n232 2\n233 1\n234 1\n235 2\n236 0\n237 2\n238 0\n239 2\n240 0\n241 0\n242 2\n243 2\n244 2\n245 2\n246 2\n247 2\n248 2\n249 0\n250 2\n251 2\n252 1\n253 1\n254 1\n255 1\n256 2\n257 0\n258 2\n259 0\n260 1\n261 0\n262 2\n263 1\n264 1\n265 0\n266 1\n267 0\n268 1\n269 0\n270 1\n271 2\n272 0\n273 2\n274 1\n275 1\n276 0\n277 0\n278 1\n279 1\n280 2\n281 2\n282 2\n283 2\n284 1\n285 1\n286 2\n287 1\n288 1\n289 0\n290 1\n291 0\n292 2\n293 0\n294 1\n295 0\n296 0\n297 0\n298 1\n299 0\n\n"
                }
            ], 
            "source": "with open('clusters.txt', 'r') as file:\n    print(file.read())"
        }, 
        {
            "source": "#### Upload file to the Cloud Object Storage", 
            "cell_type": "markdown", 
            "metadata": {}
        }, 
        {
            "execution_count": 59, 
            "cell_type": "code", 
            "metadata": {}, 
            "outputs": [
                {
                    "execution_count": 59, 
                    "metadata": {}, 
                    "data": {
                        "text/plain": "s3.Object(bucket_name='assignmentfrequentitemsetminingus-donotdelete-pr-bsxgb7luqmjbzs', key='clusters.txt')"
                    }, 
                    "output_type": "execute_result"
                }
            ], 
            "source": "resource = ibm_boto3.resource('s3',\n                   ibm_api_key_id=credentials_1['IBM_API_KEY_ID'],\n                   ibm_service_instance_id=credentials_1['IAM_SERVICE_ID'],\n                   ibm_auth_endpoint=credentials_1['IBM_AUTH_ENDPOINT'],\n                   config=Config(signature_version='oauth'),\n                   endpoint_url=credentials_1['ENDPOINT'])\nresource.Bucket(name=credentials_1['BUCKET']).put_object(Key='clusters.txt', Body=open('clusters.txt', 'rb'))"
        }, 
        {
            "source": "## IV. Optional. Vizualisation", 
            "cell_type": "markdown", 
            "metadata": {}
        }, 
        {
            "execution_count": 72, 
            "cell_type": "code", 
            "metadata": {}, 
            "outputs": [], 
            "source": "from matplotlib import pyplot as plt\n%matplotlib inline "
        }, 
        {
            "execution_count": 75, 
            "cell_type": "code", 
            "metadata": {}, 
            "outputs": [
                {
                    "output_type": "display_data", 
                    "data": {
                        "image/png": "[encoded data removed]", 
                        "text/plain": "<matplotlib.figure.Figure at 0x7f61441c45f8>"
                    }, 
                    "metadata": {}
                }
            ], 
            "source": "plt.scatter(x = 'longitude', y = 'latitude', c = 'cluster_labels', data = df)\nplt.show()"
        }, 
        {
            "execution_count": 77, 
            "cell_type": "code", 
            "metadata": {}, 
            "outputs": [
                {
                    "execution_count": 77, 
                    "metadata": {}, 
                    "data": {
                        "text/html": "<div>\n<style scoped>\n    .dataframe tbody tr th:only-of-type {\n        vertical-align: middle;\n    }\n\n    .dataframe tbody tr th {\n        vertical-align: top;\n    }\n\n    .dataframe thead th {\n        text-align: right;\n    }\n</style>\n<table border=\"1\" class=\"dataframe\">\n  <thead>\n    <tr style=\"text-align: right;\">\n      <th></th>\n      <th>longitude</th>\n      <th>latitude</th>\n    </tr>\n    <tr>\n      <th>cluster_labels</th>\n      <th></th>\n      <th></th>\n    </tr>\n  </thead>\n  <tbody>\n    <tr>\n      <th>0</th>\n      <td>100</td>\n      <td>100</td>\n    </tr>\n    <tr>\n      <th>1</th>\n      <td>100</td>\n      <td>100</td>\n    </tr>\n    <tr>\n      <th>2</th>\n      <td>100</td>\n      <td>100</td>\n    </tr>\n  </tbody>\n</table>\n</div>", 
                        "text/plain": "                longitude  latitude\ncluster_labels                     \n0                     100       100\n1                     100       100\n2                     100       100"
                    }, 
                    "output_type": "execute_result"
                }
            ], 
            "source": "df_grouped = df.groupby('cluster_labels').count()\ndf_grouped"
        }, 
        {
            "execution_count": null, 
            "cell_type": "code", 
            "metadata": {}, 
            "outputs": [], 
            "source": ""
        }
    ], 
    "metadata": {
        "kernelspec": {
            "display_name": "Python 3.5", 
            "name": "python3", 
            "language": "python"
        }, 
        "language_info": {
            "mimetype": "text/x-python", 
            "nbconvert_exporter": "python", 
            "version": "3.5.5", 
            "name": "python", 
            "file_extension": ".py", 
            "pygments_lexer": "ipython3", 
            "codemirror_mode": {
                "version": 3, 
                "name": "ipython"
            }
        }
    }, 
    "nbformat": 4
}